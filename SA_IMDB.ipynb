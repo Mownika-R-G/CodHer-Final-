{
  "nbformat": 4,
  "nbformat_minor": 0,
  "metadata": {
    "colab": {
      "provenance": [],
      "authorship_tag": "ABX9TyMM0TkyP3zB8NsfY+kOXpje",
      "include_colab_link": true
    },
    "kernelspec": {
      "name": "python3",
      "display_name": "Python 3"
    },
    "language_info": {
      "name": "python"
    }
  },
  "cells": [
    {
      "cell_type": "markdown",
      "metadata": {
        "id": "view-in-github",
        "colab_type": "text"
      },
      "source": [
        "<a href=\"https://colab.research.google.com/github/Mownika-R-G/CodHer-Final-/blob/master/SA_IMDB.ipynb\" target=\"_parent\"><img src=\"https://colab.research.google.com/assets/colab-badge.svg\" alt=\"Open In Colab\"/></a>"
      ]
    },
    {
      "cell_type": "markdown",
      "source": [],
      "metadata": {
        "id": "X7ogkEPIGsfK"
      }
    },
    {
      "cell_type": "code",
      "source": [
        "# Install google-drive-ocamlfuse\n",
        "!apt-get install -y -qq google-drive-ocamlfuse fuse\n",
        "\n",
        "# Import necessary libraries\n",
        "from google.colab import auth\n",
        "from oauth2client.client import GoogleCredentials\n",
        "import os\n",
        "import getpass\n",
        "\n",
        "# Authenticate with Google\n",
        "auth.authenticate_user()\n",
        "creds = GoogleCredentials.get_application_default()\n",
        "\n",
        "# Replace with your client ID and secret\n",
        "client_id = 'YOUR_CLIENT_ID'\n",
        "client_secret = 'YOUR_CLIENT_SECRET'\n",
        "\n",
        "# Mount Google Drive\n",
        "!google-drive-ocamlfuse -headless -id={client_id} -secret={client_secret} < /dev/null 2>&1 | grep URL\n",
        "vcode = getpass.getpass()\n",
        "!echo {vcode} | google-drive-ocamlfuse -headless -id={client_id} -secret={client_secret}"
      ],
      "metadata": {
        "colab": {
          "base_uri": "https://localhost:8080/",
          "height": 428
        },
        "id": "P2my88X2GrMk",
        "outputId": "be19e666-5ac9-41e1-fc18-bf855d6e9167"
      },
      "execution_count": 4,
      "outputs": [
        {
          "output_type": "stream",
          "name": "stdout",
          "text": [
            "Please, open the following URL in a web browser: https://accounts.google.com/o/oauth2/auth?client_id=YOUR_CLIENT_ID&redirect_uri=http%3A%2F%2F127.0.0.1%3A8080%2Foauth2callback&scope=https%3A%2F%2Fwww.googleapis.com%2Fauth%2Fdrive&response_type=code&access_type=offline&approval_prompt=force\n"
          ]
        },
        {
          "output_type": "error",
          "ename": "KeyboardInterrupt",
          "evalue": "Interrupted by user",
          "traceback": [
            "\u001b[0;31m---------------------------------------------------------------------------\u001b[0m",
            "\u001b[0;31mKeyboardInterrupt\u001b[0m                         Traceback (most recent call last)",
            "\u001b[0;32m<ipython-input-4-3f2714fff7ab>\u001b[0m in \u001b[0;36m<cell line: 0>\u001b[0;34m()\u001b[0m\n\u001b[1;32m     18\u001b[0m \u001b[0;31m# Mount Google Drive\u001b[0m\u001b[0;34m\u001b[0m\u001b[0;34m\u001b[0m\u001b[0m\n\u001b[1;32m     19\u001b[0m \u001b[0mget_ipython\u001b[0m\u001b[0;34m(\u001b[0m\u001b[0;34m)\u001b[0m\u001b[0;34m.\u001b[0m\u001b[0msystem\u001b[0m\u001b[0;34m(\u001b[0m\u001b[0;34m'google-drive-ocamlfuse -headless -id={client_id} -secret={client_secret} < /dev/null 2>&1 | grep URL'\u001b[0m\u001b[0;34m)\u001b[0m\u001b[0;34m\u001b[0m\u001b[0;34m\u001b[0m\u001b[0m\n\u001b[0;32m---> 20\u001b[0;31m \u001b[0mvcode\u001b[0m \u001b[0;34m=\u001b[0m \u001b[0mgetpass\u001b[0m\u001b[0;34m.\u001b[0m\u001b[0mgetpass\u001b[0m\u001b[0;34m(\u001b[0m\u001b[0;34m)\u001b[0m\u001b[0;34m\u001b[0m\u001b[0;34m\u001b[0m\u001b[0m\n\u001b[0m\u001b[1;32m     21\u001b[0m \u001b[0mget_ipython\u001b[0m\u001b[0;34m(\u001b[0m\u001b[0;34m)\u001b[0m\u001b[0;34m.\u001b[0m\u001b[0msystem\u001b[0m\u001b[0;34m(\u001b[0m\u001b[0;34m'echo {vcode} | google-drive-ocamlfuse -headless -id={client_id} -secret={client_secret}'\u001b[0m\u001b[0;34m)\u001b[0m\u001b[0;34m\u001b[0m\u001b[0;34m\u001b[0m\u001b[0m\n",
            "\u001b[0;32m/usr/local/lib/python3.11/dist-packages/ipykernel/kernelbase.py\u001b[0m in \u001b[0;36mgetpass\u001b[0;34m(self, prompt, stream)\u001b[0m\n\u001b[1;32m   1157\u001b[0m                 \u001b[0mstacklevel\u001b[0m\u001b[0;34m=\u001b[0m\u001b[0;36m2\u001b[0m\u001b[0;34m,\u001b[0m\u001b[0;34m\u001b[0m\u001b[0;34m\u001b[0m\u001b[0m\n\u001b[1;32m   1158\u001b[0m             )\n\u001b[0;32m-> 1159\u001b[0;31m         return self._input_request(\n\u001b[0m\u001b[1;32m   1160\u001b[0m             \u001b[0mprompt\u001b[0m\u001b[0;34m,\u001b[0m\u001b[0;34m\u001b[0m\u001b[0;34m\u001b[0m\u001b[0m\n\u001b[1;32m   1161\u001b[0m             \u001b[0mself\u001b[0m\u001b[0;34m.\u001b[0m\u001b[0m_parent_ident\u001b[0m\u001b[0;34m[\u001b[0m\u001b[0;34m\"shell\"\u001b[0m\u001b[0;34m]\u001b[0m\u001b[0;34m,\u001b[0m\u001b[0;34m\u001b[0m\u001b[0;34m\u001b[0m\u001b[0m\n",
            "\u001b[0;32m/usr/local/lib/python3.11/dist-packages/ipykernel/kernelbase.py\u001b[0m in \u001b[0;36m_input_request\u001b[0;34m(self, prompt, ident, parent, password)\u001b[0m\n\u001b[1;32m   1217\u001b[0m             \u001b[0;32mexcept\u001b[0m \u001b[0mKeyboardInterrupt\u001b[0m\u001b[0;34m:\u001b[0m\u001b[0;34m\u001b[0m\u001b[0;34m\u001b[0m\u001b[0m\n\u001b[1;32m   1218\u001b[0m                 \u001b[0;31m# re-raise KeyboardInterrupt, to truncate traceback\u001b[0m\u001b[0;34m\u001b[0m\u001b[0;34m\u001b[0m\u001b[0m\n\u001b[0;32m-> 1219\u001b[0;31m                 \u001b[0;32mraise\u001b[0m \u001b[0mKeyboardInterrupt\u001b[0m\u001b[0;34m(\u001b[0m\u001b[0;34m\"Interrupted by user\"\u001b[0m\u001b[0;34m)\u001b[0m \u001b[0;32mfrom\u001b[0m \u001b[0;32mNone\u001b[0m\u001b[0;34m\u001b[0m\u001b[0;34m\u001b[0m\u001b[0m\n\u001b[0m\u001b[1;32m   1220\u001b[0m             \u001b[0;32mexcept\u001b[0m \u001b[0mException\u001b[0m\u001b[0;34m:\u001b[0m\u001b[0;34m\u001b[0m\u001b[0;34m\u001b[0m\u001b[0m\n\u001b[1;32m   1221\u001b[0m                 \u001b[0mself\u001b[0m\u001b[0;34m.\u001b[0m\u001b[0mlog\u001b[0m\u001b[0;34m.\u001b[0m\u001b[0mwarning\u001b[0m\u001b[0;34m(\u001b[0m\u001b[0;34m\"Invalid Message:\"\u001b[0m\u001b[0;34m,\u001b[0m \u001b[0mexc_info\u001b[0m\u001b[0;34m=\u001b[0m\u001b[0;32mTrue\u001b[0m\u001b[0;34m)\u001b[0m\u001b[0;34m\u001b[0m\u001b[0;34m\u001b[0m\u001b[0m\n",
            "\u001b[0;31mKeyboardInterrupt\u001b[0m: Interrupted by user"
          ]
        }
      ]
    },
    {
      "cell_type": "code",
      "source": [
        "# Import the drive module\n",
        "from google.colab import drive\n",
        "\n",
        "# Mount Google Drive\n",
        "drive.mount('/content/drive')\n",
        "\n",
        "# After running the above code, you will be prompted to visit a URL to authorize access.\n",
        "# Follow the link, select your Google account, and copy the authorization code.\n",
        "# Paste the authorization code in the input box in Colab."
      ],
      "metadata": {
        "colab": {
          "base_uri": "https://localhost:8080/"
        },
        "id": "RC4BFuCNJWw-",
        "outputId": "debc5c88-7e62-4547-86fe-5a40eaafc5e4"
      },
      "execution_count": 5,
      "outputs": [
        {
          "output_type": "stream",
          "name": "stdout",
          "text": [
            "Mounted at /content/drive\n"
          ]
        }
      ]
    },
    {
      "cell_type": "markdown",
      "source": [
        "# New Section"
      ],
      "metadata": {
        "id": "k58EBOhZIa5R"
      }
    },
    {
      "cell_type": "code",
      "source": [
        "# List files in your Google Drive\n",
        "import os\n",
        "\n",
        "# List files in the root of your Google Drive\n",
        "print(os.listdir('/content/drive/My Drive/'))"
      ],
      "metadata": {
        "colab": {
          "base_uri": "https://localhost:8080/"
        },
        "id": "JVwQ8d7ZJfNV",
        "outputId": "0b711a43-dc1f-467e-fd5a-2f6e16b5f306"
      },
      "execution_count": 6,
      "outputs": [
        {
          "output_type": "stream",
          "name": "stdout",
          "text": [
            "['IMG-20250215-WA0010.jpg', 'Screenshot_2025-03-17-10-22-51-65_4336b74596784d9a2aa81f87c2016f50.jpg', 'Computer Science Term1 study trigger.pdf', 'idfc amma.zip', 'current electricity.pdf', 'EnglishCoreXII-1-1.pdf', 'response', 'BRAND MANIA AND TEENAGERS.gform', 'Classroom', '191PYB101T -Lesson Plan (16-11-2021).gdoc', 'Mownika R G, ECE-B, 1st year.pdf', \"I am sharing 'Document (3)' with you\", 'Burglar Alarm System Components - Safe and Sound Security', 'Untitled folder', \"I am sharing 'DOC-20230217-WA0007.' with you\", \"I am sharing Rakshna ppt 'GROUP1[1][1]' with you\", \"Copy of I am sharing 'DOC-20230217-WA0007.' with you\", \"I am sharing 'GROUP-5(POLYMERS - USED IN DAY TO DAY LIFE)_(MEENA.G)_(9566132706)' with you\", \"Copy of I am sharing 'GROUP-5(POLYMERS - USED IN DAY TO DAY LIFE)_(MEENA.G)_(9566132706)' with you.pptx\", \"I am sharing 'MATH GP PPT (1)-1' with you\", \"I am sharing 'DOC-20230211-WA0030.' with you\", 'math ppt new (1).pptx', \"I am sharing '12th project' with you\", \"Copy of I am sharing '12th project' with you\", \"I am sharing 'DOC-20230206-WA0000.' with you\", 'oops mini pro 1 (1).pdf', '191PYB101T Question Bank (1).gdoc', 'oops mini pro 1.pdf', 'oops mini pro 1.gdoc', 'Document (4).docx', 'thohh_1.mp3', \"I am sharing 'MATHS PPT (2)' with you\", 'EC&ED PRESENTATION NEW.pptx', 'DOC-20230610-WA0063..pptx', 'GROUP 5 MATHS II (1).pptx', 'GROUP 5 MATHS II.pptx', 'unit 2 (2).gdoc', 'unit 2 (1).gdoc', 'unit 2.gdoc', 'temlate (1).pptx', 'temlate.pptx', 'Digital Electronics Unit - 2 Notes (1).gdoc', 'Digital Electronics Unit - 2 Notes.gdoc', 'IMG-20240210-WA0000.jpg', 'resume_mownika.pdf', 'IMG-20240216-WA0028.jpg', 'Teachnook COURSE Completion Certificate | Mownika R G.pdf', 'my adhar.pdf', 'Untitled document (37).gdoc', 'data info.gdoc', 'Mownika_Major_project_data_science.ipynb', 'new_car_prices.csv', 'Untitled document (36).gdoc', 'Car Price Prediction_Mownika_data science major project.ipynb', 'TEACHNOOK Internship Completion Certificate | Mownika R G .pdf', 'IMG-20240319-WA0002.jpg', 'Screenshot_2024-03-22-10-16-35-48_6012fa4d4ddec268fc5c7112cbb265e7 (1).jpg', 'Screenshot_2024-03-22-10-16-35-48_6012fa4d4ddec268fc5c7112cbb265e7.jpg', 'IMG20240324210146.jpg', 'Screenshot_2024-03-24-21-06-17-24_512d59465dcd1d9c8e9be3e706423fdf.jpg', 'IMG_20240324_212402.jpg', \"I am sharing 'TS REPORT FORMAT' with you\", \"Copy of I am sharing 'TS REPORT FORMAT' with you.docx\", \"I am sharing 'Seminar Report' with you\", 'Mownika_Technical_Seminar.pdf', 'IMG-20240329-WA0005 (1).jpg', 'IMG-20240329-WA0005.jpg', 'Untitled document (35).gdoc', 'CIRCUIT ESCAPE ROOM.gdoc', 'Photo from Mownika (2)', 'Untitled document (34).gdoc', 'Mownika_Technical_Seminar.gdoc', 'IMG_20240402_183550.jpg', 'Mownika_Technical_Seminar_NEW.pdf', 'IMG-20240405-WA0009.jpg', 'Untitled document (33).gdoc', 'Untitled document (32).gdoc', 'Copy of Untitled document.gdoc', 'DYNAMIC WIRELESS CHARGING FOR EV.gdoc', '191ECC201T ECED UNIT TEST 1.gdoc', 'IMG20240405141046.jpg', 'IMG20240405141335.jpg', 'IMG20240405142253.jpg', 'IMG20240405142318.jpg', 'CONTENT.gdoc', 'Screenshot_2024-04-06-20-38-11-32_512d59465dcd1d9c8e9be3e706423fdf.jpg', 'IMG_20240406_203937.jpg', 'Round 2 Circuit Questions.gdoc', 'Round 2 Circuit Answers.gdoc', 'IMG-20240406-WA0021.jpg', 'IMG-20240406-WA0023.jpg', 'IMG-20240406-WA0023.pdf', 'IMG_20240406_203937 (1).pdf', 'IMG-20240406-WA0021.pdf', 'picture.pdf', 'certificate_mowika.pdf', 'lekha.pdf', 'Unit 1 and 2 - Notes (1).gdoc', 'Unit 1 and 2 - Notes.gdoc', 'CAT I Answer Key - OOP DS.gdoc', 'QB-TWO MARKS WITH ANSWERS.gdoc', 'Round 3', 'social media blog.gdoc', 'Round 3 Questions.gdoc', 'lekha q r3', 'II4IIT_Assignment-1_Solution.gdoc', 'Document from Mownika', 'CIRCUIT ESCAPE ROOM Round 3.gdoc', 'round 3 answers.gdoc', ' DYNAMIC WIRELESS CHARGING FOR EV.gdoc', \"I am sharing 'DYNAMIC WIRELESS CHARGING FOR ELECTRIC VEHICLES AND POWER EFFICIENCY' with you\", \"Copy of I am sharing 'DYNAMIC WIRELESS CHARGING FOR ELECTRIC VEHICLES AND POWER EFFICIENCY' with you.docx\", \"I am sharing 'Copy of I am sharing 'DYNAMIC WIRELESS CHARGING FOR ELECTRIC VEHICLES AND POWER EFFICIENCY' with you[2' with you\", 'smart grid tech.gdoc', 'for my use.gdoc', 'Untitled document (31).gdoc', 'contents for sg.gdoc', 'DYNAMIC WIRELESS CHARGING FOR ELECTRIC VEHICLES AND POWER EFFICIENCY.gdoc', \"I am sharing ''DYNAMIC WIRELESS CHARGING FOR ELECTRIC VEHICLES AND POWER EFFICIENCY' with you\", 'WDC (1).gdoc', 'WDC.gdoc', 'Untitled document (30).gdoc', \"I am sharing 'sustainability-13-10331' with you.pdf\", 'Copy of Wdc.docx', 'Wireless Dynamic Charging old.docx', 'Wireless Dynamic Charging.docx', 'WhatsApp Image 2024-05-04 at 18.21.09.jpeg', 'Photo from Mownika (1)', \"I am sharing ''DYNAMIC WIRELESS CHARGING FOR ELECTRIC VEHICLES AND POWER EFFICIENCY (1)-1' with you\", 'ICMICC-057.pptx', 'extra and co curi aprl 2024.xlsx', 'R19-ECE Curriculum and Syllabus (1).pdf', 'Untitled document (29).gdoc', 'Unit 1 and 2 - Notes 2.gdoc', 'TEACHNOOK Internship Completion Certificate _ Mownika R G  (1).pdf', 'TEACHNOOK Internship Completion Certificate _ Mownika R G .pdf', 'Untitled document (28).gdoc', 'Untitled document (27).gdoc', 'Untitled document (26).gdoc', 'Resume Mownika.pdf', 'file (4).pdf', 'file (3).pdf', 'file (2).pdf', 'file.pdf', 'file (1) (2).pdf', 'file (1) (1).pdf', 'file (1).pdf', '2022BEECE171_30_07_2024 00_31_13 (1).pdf', '2022BEECE171_30_07_2024 00_31_13.pdf', '2022BEECE171_Tue Jul 30 2024 00_31_59 GMT+0530 (India Standard Time) (3).pdf', '2022BEECE171_Tue Jul 30 2024 00_31_59 GMT+0530 (India Standard Time) (2).pdf', '2022BEECE171_Tue Jul 30 2024 00_31_59 GMT+0530 (India Standard Time) (1).pdf', '2022BEECE171_Tue Jul 30 2024 00_31_59 GMT+0530 (India Standard Time).pdf', '2022BEECE171_Tue Jul 30 2024 00_32_03 GMT+0530 (India Standard Time) (3).pdf', '2022BEECE171_Tue Jul 30 2024 00_32_03 GMT+0530 (India Standard Time) (2).pdf', '2022BEECE171_Tue Jul 30 2024 00_32_03 GMT+0530 (India Standard Time) (1).pdf', '2022BEECE171_Tue Jul 30 2024 00_32_03 GMT+0530 (India Standard Time).pdf', 'IMG_20230202_1841061 (1).jpg', 'IMG_20230202_1841061.jpg', 'Mownika R G, ECE-B.pdf', 'Networking_Basics_Badge20240911-7-wp6rqw.pdf', '72b82f9b-d220-4b8a-9d8c-942180a1470e.pdf', 'AI BASED NEO-NATAL VITAL MONITORING.gdoc', 'array-23rd sep.gdoc', 'Untitled document (25).gdoc', 'array 24th sep.gdoc', '2022BEECE171_NOVEMBER_2024_FEE_RECEIPT.pdf', 'ccc 25th sep.gdoc', 'ccc 26th sep.gdoc', 'ccc sep 27.gdoc', 'ccc sep 28.gdoc', 'Untitled document (24).gdoc', 'IMG_20240702_141249.jpg', 'ccc sep30.gdoc', 'Untitled document (23).gdoc', \" 'Individual ppt, Mownika R G, 89' with you\", 'Visume.mp4', \"I am sharing 'Mownika Internship Report' with you\", 'IMG-20241022-WA0005.jpg', 'IMG-20241026-WA0027.jpg', 'IMG-20241026-WA0028.jpg', 'IMG-20241026-WA0029.jpg', 'IMG-20241026-WA0030 (1).jpg', 'IMG-20241026-WA0031 (1).jpg', 'IMG-20241026-WA0032 (1).jpg', 'IMG-20241026-WA0033 (1).jpg', 'IMG-20241026-WA0035 (1).jpg', 'IMG-20241026-WA0036 (1).jpg', 'IMG-20241026-WA0037 (1).jpg', 'IMG-20241026-WA0038 (1).jpg', 'IMG-20241026-WA0039 (1).jpg', 'IMG-20241022-WA0014 (1).jpg', 'IMG-20241026-WA0034 (1).jpg', 'IMG-20241022-WA0013 (1).jpg', 'IMG-20241022-WA0012 (1).jpg', 'IMG-20241022-WA0011 (1).jpg', 'IMG-20241022-WA0010 (1).jpg', 'IMG-20241022-WA0009 (1).jpg', 'IMG-20241022-WA0008 (2).jpg', 'IMG-20241022-WA0006 (1).jpg', 'IMG-20241026-WA0030.jpg', 'IMG-20241026-WA0031.jpg', 'IMG-20241026-WA0032.jpg', 'IMG-20241026-WA0033.jpg', 'IMG-20241026-WA0034.jpg', 'IMG-20241026-WA0035.jpg', 'IMG-20241026-WA0036.jpg', 'IMG-20241026-WA0037.jpg', 'IMG-20241026-WA0038.jpg', 'IMG-20241026-WA0039.jpg', 'IMG-20241022-WA0014.jpg', 'IMG-20241022-WA0013.jpg', 'IMG-20241022-WA0012.jpg', 'IMG-20241022-WA0011.jpg', 'IMG-20241022-WA0010.jpg', 'IMG-20241022-WA0009.jpg', 'IMG-20241022-WA0008 (1).jpg', 'IMG-20241022-WA0006.jpg', 'IMG-20241022-WA0008.jpg', 'Photo from Mownika', 'Untitled document (22).gdoc', \"I am sharing 'Mownika Internship Report with pages removed' with you\", 'First page .gdoc', 'Untitled document (21).gdoc', \"I am sharing 'Mownika_R_G_89_Debate' with you\", 'Untitled document (20).gdoc', 'signature mownika.jpg', 'nee sign.jpg', 'MPMC five units ppt.gslides', 'Untitled document (19).gdoc', 'EEC III Year - Week 6 - Quadratic Equation with Answer Key.pdf', \"I am sharing 'EEC III Year - Week 7 - Mathematical operations with Answer Key' with you\", \"I am sharing 'EEC III Year - Week 9 - 3D Mensuration with Answer Key' with you\", \"I am sharing 'EEC III Year - Week 8 - 2D Mensuration with Answer Key' with you\", 'Untitled document (18).gdoc', 'AI FOR EVERYONE_Unit 1.gdoc', 'Mownika R G (3).pdf', 'Untitled document (17).gdoc', \"I am sharing 'ADSD CAT 1 Set A Revised (2)' with you\", 'Resume.gdoc', 'Untitled document (16).gdoc', 'Untitled document (15).gdoc', 'Untitled document (14).gdoc', 'Untitled document (13).gdoc', 'IMG-20241228-WA0008.jpg', 'Assignment 1, NIELIT, Mownika R G (1).gdoc', 'Assignment 1, NIELIT, Mownika R G.gdoc', 'NIELIT Assignment 1 Mownika R G.docx', 'NIELIT assignment 2 Mownika R G.gdoc', 'NIELIT assignment 2 Mownika R G.docx', 'Untitled document (12).gdoc', 'NIELIT Assignment 3 Mownika R G.gdoc', 'NIELIT Assignment 3 Mownika R G.docx', 'NIELIT Assignment 4, Mownika R G.gdoc', 'Untitled document (11).gdoc', 'KYNNOVATE 2025 - Problem statement.pdf', 'Untitled document (10).gdoc', 'Untitled document (9).gdoc', 'UYIR Hackathon.gdoc', 'UYIR Hackathon - Guardians of the Road (2).pdf', 'Untitled document (8).gdoc', 'UYIR Hackathon - Guardians of the Road.gdoc', 'UYIR Hackathon - Guardians of the Road (1).pdf', 'UYIR Hackathon - Guardians of the Road.pdf', \"Mownika R G - ICMCC'24.pdf\", 'Screenshot_2025-01-23-10-50-59-20_40deb401b9ffe8e1df2f1cc5ba480b12.jpg', 'Untitled document (7).gdoc', 'Untitled document (6).gdoc', 'An improvised analysis of smart data for IoT-based railway system using RFID.pdf', 'Untitled presentation.gslides', 'Mownika_Nielit_Report.gdoc', 'Mownika_Nielit_Report.pdf', 'My Resume.pdf', ' Mownika R G Cover Letter.gdoc', 'VID20250214070509.mp4', 'Sat Com Unit 3 (1).gslides', 'Untitled document (5).gdoc', 'Untitled document (4).gdoc', 'IETE ID card.pdf', 'Untitled document (3).gdoc', 'Untitled document (2).gdoc', 'Tech Quiz Round 1.gdoc', 'Round 1 Answers.gdoc', '101f07c4-5577-4742-9843-f029fb465d36_payment_confirmation_20250376-102000.png', 'Untitled document (1).gdoc', 'Demystifying Structures in C.gslides', 'Group 8.pdf', 'Sabih H. Gerez - Algorithms for VLSI Design Automation-Wiley (1998) (1).gdoc', 'Sabih H. Gerez - Algorithms for VLSI Design Automation-Wiley (1998).gdoc', 'Colab Notebooks', 'Sentiment_Analysis', 'Untitled document.gdoc', 'credentials.json']\n"
          ]
        }
      ]
    },
    {
      "cell_type": "code",
      "source": [
        "#After success run Drive FUSE program, you can create a directory Sentiment_Analysis and access your drive at /content/drive with using command\n",
        "import os\n",
        "\n",
        "# Define the path for the new directory inside 'My Drive'\n",
        "sentiment_analysis_dir = '/content/drive/My Drive/Sentiment_Analysis'\n",
        "\n",
        "# Check if the directory already exists\n",
        "if not os.path.exists(sentiment_analysis_dir):\n",
        "    # Create the directory if it doesn't exist\n",
        "    os.makedirs(sentiment_analysis_dir)\n",
        "    print(f\"Directory '{sentiment_analysis_dir}' created successfully.\")\n",
        "else:\n",
        "    print(f\"Directory '{sentiment_analysis_dir}' already exists.\")\n",
        "\n",
        "os.chdir(\"/content/drive/My Drive\")  # Change to the desired directory\n",
        "!ls  # List the content of the changed directory"
      ],
      "metadata": {
        "colab": {
          "base_uri": "https://localhost:8080/"
        },
        "id": "_rfoupaWAhw2",
        "outputId": "4ada3e21-511f-4715-e891-d75742015187"
      },
      "execution_count": 8,
      "outputs": [
        {
          "output_type": "stream",
          "name": "stdout",
          "text": [
            "Directory '/content/drive/My Drive/Sentiment_Analysis' already exists.\n",
            " 101f07c4-5577-4742-9843-f029fb465d36_payment_confirmation_20250376-102000.png\n",
            "'191ECC201T ECED UNIT TEST 1.gdoc'\n",
            "'191PYB101T -Lesson Plan (16-11-2021).gdoc'\n",
            "'191PYB101T Question Bank (1).gdoc'\n",
            "'2022BEECE171_30_07_2024 00_31_13 (1).pdf'\n",
            "'2022BEECE171_30_07_2024 00_31_13.pdf'\n",
            " 2022BEECE171_NOVEMBER_2024_FEE_RECEIPT.pdf\n",
            "'2022BEECE171_Tue Jul 30 2024 00_31_59 GMT+0530 (India Standard Time) (1).pdf'\n",
            "'2022BEECE171_Tue Jul 30 2024 00_31_59 GMT+0530 (India Standard Time) (2).pdf'\n",
            "'2022BEECE171_Tue Jul 30 2024 00_31_59 GMT+0530 (India Standard Time) (3).pdf'\n",
            "'2022BEECE171_Tue Jul 30 2024 00_31_59 GMT+0530 (India Standard Time).pdf'\n",
            "'2022BEECE171_Tue Jul 30 2024 00_32_03 GMT+0530 (India Standard Time) (1).pdf'\n",
            "'2022BEECE171_Tue Jul 30 2024 00_32_03 GMT+0530 (India Standard Time) (2).pdf'\n",
            "'2022BEECE171_Tue Jul 30 2024 00_32_03 GMT+0530 (India Standard Time) (3).pdf'\n",
            "'2022BEECE171_Tue Jul 30 2024 00_32_03 GMT+0530 (India Standard Time).pdf'\n",
            " 72b82f9b-d220-4b8a-9d8c-942180a1470e.pdf\n",
            "'AI BASED NEO-NATAL VITAL MONITORING.gdoc'\n",
            "'AI FOR EVERYONE_Unit 1.gdoc'\n",
            "'An improvised analysis of smart data for IoT-based railway system using RFID.pdf'\n",
            "'array-23rd sep.gdoc'\n",
            "'array 24th sep.gdoc'\n",
            "'Assignment 1, NIELIT, Mownika R G (1).gdoc'\n",
            "'Assignment 1, NIELIT, Mownika R G.gdoc'\n",
            "'BRAND MANIA AND TEENAGERS.gform'\n",
            "'Burglar Alarm System Components - Safe and Sound Security'\n",
            "'Car Price Prediction_Mownika_data science major project.ipynb'\n",
            "'CAT I Answer Key - OOP DS.gdoc'\n",
            "'ccc 25th sep.gdoc'\n",
            "'ccc 26th sep.gdoc'\n",
            "'ccc sep 27.gdoc'\n",
            "'ccc sep 28.gdoc'\n",
            "'ccc sep30.gdoc'\n",
            " certificate_mowika.pdf\n",
            "'CIRCUIT ESCAPE ROOM.gdoc'\n",
            "'CIRCUIT ESCAPE ROOM Round 3.gdoc'\n",
            " Classroom\n",
            "'Colab Notebooks'\n",
            "'Computer Science Term1 study trigger.pdf'\n",
            " CONTENT.gdoc\n",
            "'contents for sg.gdoc'\n",
            "\"Copy of I am sharing '12th project' with you\"\n",
            "\"Copy of I am sharing 'DOC-20230217-WA0007.' with you\"\n",
            "\"Copy of I am sharing 'DYNAMIC WIRELESS CHARGING FOR ELECTRIC VEHICLES AND POWER EFFICIENCY' with you.docx\"\n",
            "'Copy of I am sharing '\\''GROUP-5(POLYMERS - USED IN DAY TO DAY LIFE)_(MEENA.G)_(9566132706)'\\'' with you.pptx'\n",
            "\"Copy of I am sharing 'TS REPORT FORMAT' with you.docx\"\n",
            "'Copy of Untitled document.gdoc'\n",
            "'Copy of Wdc.docx'\n",
            " credentials.json\n",
            "'current electricity.pdf'\n",
            "'data info.gdoc'\n",
            "'Demystifying Structures in C.gslides'\n",
            "'Digital Electronics Unit - 2 Notes (1).gdoc'\n",
            "'Digital Electronics Unit - 2 Notes.gdoc'\n",
            " DOC-20230610-WA0063..pptx\n",
            "'Document (4).docx'\n",
            "'Document from Mownika'\n",
            "'DYNAMIC WIRELESS CHARGING FOR ELECTRIC VEHICLES AND POWER EFFICIENCY.gdoc'\n",
            "' DYNAMIC WIRELESS CHARGING FOR EV.gdoc'\n",
            "'DYNAMIC WIRELESS CHARGING FOR EV.gdoc'\n",
            "'EC&ED PRESENTATION NEW.pptx'\n",
            "'EEC III Year - Week 6 - Quadratic Equation with Answer Key.pdf'\n",
            " EnglishCoreXII-1-1.pdf\n",
            "'extra and co curi aprl 2024.xlsx'\n",
            "'file (1) (1).pdf'\n",
            "'file (1) (2).pdf'\n",
            "'file (1).pdf'\n",
            "'file (2).pdf'\n",
            "'file (3).pdf'\n",
            "'file (4).pdf'\n",
            " file.pdf\n",
            "'First page .gdoc'\n",
            "'for my use.gdoc'\n",
            "'GROUP 5 MATHS II (1).pptx'\n",
            "'GROUP 5 MATHS II.pptx'\n",
            "'Group 8.pdf'\n",
            "\"I am sharing '12th project' with you\"\n",
            "'I am sharing '\\''ADSD CAT 1 Set A Revised (2)'\\'' with you'\n",
            "'I am sharing '\\''Copy of I am sharing '\\''DYNAMIC WIRELESS CHARGING FOR ELECTRIC VEHICLES AND POWER EFFICIENCY'\\'' with you[2'\\'' with you'\n",
            "\"I am sharing 'DOC-20230206-WA0000.' with you\"\n",
            "\"I am sharing 'DOC-20230211-WA0030.' with you\"\n",
            "\"I am sharing 'DOC-20230217-WA0007.' with you\"\n",
            "'I am sharing '\\''Document (3)'\\'' with you'\n",
            "'I am sharing '\\'''\\''DYNAMIC WIRELESS CHARGING FOR ELECTRIC VEHICLES AND POWER EFFICIENCY (1)-1'\\'' with you'\n",
            "\"I am sharing ''DYNAMIC WIRELESS CHARGING FOR ELECTRIC VEHICLES AND POWER EFFICIENCY' with you\"\n",
            "\"I am sharing 'DYNAMIC WIRELESS CHARGING FOR ELECTRIC VEHICLES AND POWER EFFICIENCY' with you\"\n",
            "\"I am sharing 'EEC III Year - Week 7 - Mathematical operations with Answer Key' with you\"\n",
            "\"I am sharing 'EEC III Year - Week 8 - 2D Mensuration with Answer Key' with you\"\n",
            "\"I am sharing 'EEC III Year - Week 9 - 3D Mensuration with Answer Key' with you\"\n",
            "'I am sharing '\\''GROUP-5(POLYMERS - USED IN DAY TO DAY LIFE)_(MEENA.G)_(9566132706)'\\'' with you'\n",
            "'I am sharing '\\''MATH GP PPT (1)-1'\\'' with you'\n",
            "'I am sharing '\\''MATHS PPT (2)'\\'' with you'\n",
            "\"I am sharing 'Mownika Internship Report with pages removed' with you\"\n",
            "\"I am sharing 'Mownika Internship Report' with you\"\n",
            "\"I am sharing 'Mownika_R_G_89_Debate' with you\"\n",
            "'I am sharing Rakshna ppt '\\''GROUP1[1][1]'\\'' with you'\n",
            "\"I am sharing 'Seminar Report' with you\"\n",
            "\"I am sharing 'sustainability-13-10331' with you.pdf\"\n",
            "\"I am sharing 'TS REPORT FORMAT' with you\"\n",
            " ICMICC-057.pptx\n",
            "'idfc amma.zip'\n",
            "'IETE ID card.pdf'\n",
            " II4IIT_Assignment-1_Solution.gdoc\n",
            "'IMG_20230202_1841061 (1).jpg'\n",
            " IMG_20230202_1841061.jpg\n",
            " IMG-20240210-WA0000.jpg\n",
            " IMG-20240216-WA0028.jpg\n",
            " IMG-20240319-WA0002.jpg\n",
            " IMG20240324210146.jpg\n",
            " IMG_20240324_212402.jpg\n",
            "'IMG-20240329-WA0005 (1).jpg'\n",
            " IMG-20240329-WA0005.jpg\n",
            " IMG_20240402_183550.jpg\n",
            " IMG20240405141046.jpg\n",
            " IMG20240405141335.jpg\n",
            " IMG20240405142253.jpg\n",
            " IMG20240405142318.jpg\n",
            " IMG-20240405-WA0009.jpg\n",
            "'IMG_20240406_203937 (1).pdf'\n",
            " IMG_20240406_203937.jpg\n",
            " IMG-20240406-WA0021.jpg\n",
            " IMG-20240406-WA0021.pdf\n",
            " IMG-20240406-WA0023.jpg\n",
            " IMG-20240406-WA0023.pdf\n",
            " IMG_20240702_141249.jpg\n",
            " IMG-20241022-WA0005.jpg\n",
            "'IMG-20241022-WA0006 (1).jpg'\n",
            " IMG-20241022-WA0006.jpg\n",
            "'IMG-20241022-WA0008 (1).jpg'\n",
            "'IMG-20241022-WA0008 (2).jpg'\n",
            " IMG-20241022-WA0008.jpg\n",
            "'IMG-20241022-WA0009 (1).jpg'\n",
            " IMG-20241022-WA0009.jpg\n",
            "'IMG-20241022-WA0010 (1).jpg'\n",
            " IMG-20241022-WA0010.jpg\n",
            "'IMG-20241022-WA0011 (1).jpg'\n",
            " IMG-20241022-WA0011.jpg\n",
            "'IMG-20241022-WA0012 (1).jpg'\n",
            " IMG-20241022-WA0012.jpg\n",
            "'IMG-20241022-WA0013 (1).jpg'\n",
            " IMG-20241022-WA0013.jpg\n",
            "'IMG-20241022-WA0014 (1).jpg'\n",
            " IMG-20241022-WA0014.jpg\n",
            " IMG-20241026-WA0027.jpg\n",
            " IMG-20241026-WA0028.jpg\n",
            " IMG-20241026-WA0029.jpg\n",
            "'IMG-20241026-WA0030 (1).jpg'\n",
            " IMG-20241026-WA0030.jpg\n",
            "'IMG-20241026-WA0031 (1).jpg'\n",
            " IMG-20241026-WA0031.jpg\n",
            "'IMG-20241026-WA0032 (1).jpg'\n",
            " IMG-20241026-WA0032.jpg\n",
            "'IMG-20241026-WA0033 (1).jpg'\n",
            " IMG-20241026-WA0033.jpg\n",
            "'IMG-20241026-WA0034 (1).jpg'\n",
            " IMG-20241026-WA0034.jpg\n",
            "'IMG-20241026-WA0035 (1).jpg'\n",
            " IMG-20241026-WA0035.jpg\n",
            "'IMG-20241026-WA0036 (1).jpg'\n",
            " IMG-20241026-WA0036.jpg\n",
            "'IMG-20241026-WA0037 (1).jpg'\n",
            " IMG-20241026-WA0037.jpg\n",
            "'IMG-20241026-WA0038 (1).jpg'\n",
            " IMG-20241026-WA0038.jpg\n",
            "'IMG-20241026-WA0039 (1).jpg'\n",
            " IMG-20241026-WA0039.jpg\n",
            " IMG-20241228-WA0008.jpg\n",
            " IMG-20250215-WA0010.jpg\n",
            "\" 'Individual ppt, Mownika R G, 89' with you\"\n",
            "'KYNNOVATE 2025 - Problem statement.pdf'\n",
            " lekha.pdf\n",
            "'lekha q r3'\n",
            "'math ppt new (1).pptx'\n",
            " Mownika_Major_project_data_science.ipynb\n",
            " Mownika_Nielit_Report.gdoc\n",
            " Mownika_Nielit_Report.pdf\n",
            "'Mownika R G (3).pdf'\n",
            "' Mownika R G Cover Letter.gdoc'\n",
            "'Mownika R G, ECE-B, 1st year.pdf'\n",
            "'Mownika R G, ECE-B.pdf'\n",
            "\"Mownika R G - ICMCC'24.pdf\"\n",
            " Mownika_Technical_Seminar.gdoc\n",
            " Mownika_Technical_Seminar_NEW.pdf\n",
            " Mownika_Technical_Seminar.pdf\n",
            "'MPMC five units ppt.gslides'\n",
            "'my adhar.pdf'\n",
            "'My Resume.pdf'\n",
            "'nee sign.jpg'\n",
            " Networking_Basics_Badge20240911-7-wp6rqw.pdf\n",
            " new_car_prices.csv\n",
            "'NIELIT Assignment 1 Mownika R G.docx'\n",
            "'NIELIT assignment 2 Mownika R G.docx'\n",
            "'NIELIT assignment 2 Mownika R G.gdoc'\n",
            "'NIELIT Assignment 3 Mownika R G.docx'\n",
            "'NIELIT Assignment 3 Mownika R G.gdoc'\n",
            "'NIELIT Assignment 4, Mownika R G.gdoc'\n",
            "'oops mini pro 1 (1).pdf'\n",
            "'oops mini pro 1.gdoc'\n",
            "'oops mini pro 1.pdf'\n",
            "'Photo from Mownika'\n",
            "'Photo from Mownika (1)'\n",
            "'Photo from Mownika (2)'\n",
            " picture.pdf\n",
            "'QB-TWO MARKS WITH ANSWERS.gdoc'\n",
            "'R19-ECE Curriculum and Syllabus (1).pdf'\n",
            " response\n",
            " Resume.gdoc\n",
            " resume_mownika.pdf\n",
            "'Resume Mownika.pdf'\n",
            "'Round 1 Answers.gdoc'\n",
            "'Round 2 Circuit Answers.gdoc'\n",
            "'Round 2 Circuit Questions.gdoc'\n",
            "'Round 3'\n",
            "'round 3 answers.gdoc'\n",
            "'Round 3 Questions.gdoc'\n",
            "'Sabih H. Gerez - Algorithms for VLSI Design Automation-Wiley (1998) (1).gdoc'\n",
            "'Sabih H. Gerez - Algorithms for VLSI Design Automation-Wiley (1998).gdoc'\n",
            "'Sat Com Unit 3 (1).gslides'\n",
            "'Screenshot_2024-03-22-10-16-35-48_6012fa4d4ddec268fc5c7112cbb265e7 (1).jpg'\n",
            " Screenshot_2024-03-22-10-16-35-48_6012fa4d4ddec268fc5c7112cbb265e7.jpg\n",
            " Screenshot_2024-03-24-21-06-17-24_512d59465dcd1d9c8e9be3e706423fdf.jpg\n",
            " Screenshot_2024-04-06-20-38-11-32_512d59465dcd1d9c8e9be3e706423fdf.jpg\n",
            " Screenshot_2025-01-23-10-50-59-20_40deb401b9ffe8e1df2f1cc5ba480b12.jpg\n",
            " Screenshot_2025-03-17-10-22-51-65_4336b74596784d9a2aa81f87c2016f50.jpg\n",
            " Sentiment_Analysis\n",
            "'signature mownika.jpg'\n",
            "'smart grid tech.gdoc'\n",
            "'social media blog.gdoc'\n",
            "'Teachnook COURSE Completion Certificate | Mownika R G.pdf'\n",
            "'TEACHNOOK Internship Completion Certificate _ Mownika R G  (1).pdf'\n",
            "'TEACHNOOK Internship Completion Certificate _ Mownika R G .pdf'\n",
            "'TEACHNOOK Internship Completion Certificate | Mownika R G .pdf'\n",
            "'Tech Quiz Round 1.gdoc'\n",
            "'temlate (1).pptx'\n",
            " temlate.pptx\n",
            " thohh_1.mp3\n",
            "'Unit 1 and 2 - Notes (1).gdoc'\n",
            "'Unit 1 and 2 - Notes 2.gdoc'\n",
            "'Unit 1 and 2 - Notes.gdoc'\n",
            "'unit 2 (1).gdoc'\n",
            "'unit 2 (2).gdoc'\n",
            "'unit 2.gdoc'\n",
            "'Untitled document (10).gdoc'\n",
            "'Untitled document (11).gdoc'\n",
            "'Untitled document (12).gdoc'\n",
            "'Untitled document (13).gdoc'\n",
            "'Untitled document (14).gdoc'\n",
            "'Untitled document (15).gdoc'\n",
            "'Untitled document (16).gdoc'\n",
            "'Untitled document (17).gdoc'\n",
            "'Untitled document (18).gdoc'\n",
            "'Untitled document (19).gdoc'\n",
            "'Untitled document (1).gdoc'\n",
            "'Untitled document (20).gdoc'\n",
            "'Untitled document (21).gdoc'\n",
            "'Untitled document (22).gdoc'\n",
            "'Untitled document (23).gdoc'\n",
            "'Untitled document (24).gdoc'\n",
            "'Untitled document (25).gdoc'\n",
            "'Untitled document (26).gdoc'\n",
            "'Untitled document (27).gdoc'\n",
            "'Untitled document (28).gdoc'\n",
            "'Untitled document (29).gdoc'\n",
            "'Untitled document (2).gdoc'\n",
            "'Untitled document (30).gdoc'\n",
            "'Untitled document (31).gdoc'\n",
            "'Untitled document (32).gdoc'\n",
            "'Untitled document (33).gdoc'\n",
            "'Untitled document (34).gdoc'\n",
            "'Untitled document (35).gdoc'\n",
            "'Untitled document (36).gdoc'\n",
            "'Untitled document (37).gdoc'\n",
            "'Untitled document (3).gdoc'\n",
            "'Untitled document (4).gdoc'\n",
            "'Untitled document (5).gdoc'\n",
            "'Untitled document (6).gdoc'\n",
            "'Untitled document (7).gdoc'\n",
            "'Untitled document (8).gdoc'\n",
            "'Untitled document (9).gdoc'\n",
            "'Untitled document.gdoc'\n",
            "'Untitled folder'\n",
            "'Untitled presentation.gslides'\n",
            "'UYIR Hackathon.gdoc'\n",
            "'UYIR Hackathon - Guardians of the Road (1).pdf'\n",
            "'UYIR Hackathon - Guardians of the Road (2).pdf'\n",
            "'UYIR Hackathon - Guardians of the Road.gdoc'\n",
            "'UYIR Hackathon - Guardians of the Road.pdf'\n",
            " VID20250214070509.mp4\n",
            " Visume.mp4\n",
            "'WDC (1).gdoc'\n",
            " WDC.gdoc\n",
            "'WhatsApp Image 2024-05-04 at 18.21.09.jpeg'\n",
            "'Wireless Dynamic Charging.docx'\n",
            "'Wireless Dynamic Charging old.docx'\n"
          ]
        }
      ]
    },
    {
      "cell_type": "code",
      "source": [
        "#Append your path\n",
        "import sys\n",
        "sys.path.append('/content/drive/Sentiment_Analysis')"
      ],
      "metadata": {
        "id": "C-wVQTzfAije"
      },
      "execution_count": 9,
      "outputs": []
    },
    {
      "cell_type": "code",
      "source": [
        "# Import necessary libraries (if not already imported)\n",
        "from tensorflow import keras  # Assuming you're using Keras\n",
        "from keras.models import load_model\n",
        "import os\n",
        "\n",
        "\n",
        "#Now save the model in required directory\n",
        "# Assuming 'model' is your trained Keras model\n",
        "# If not, replace with your actual model object\n",
        "# If you need to load a pre-trained model\n",
        "# model = load_model('/path/to/your/pretrained/model.h5') # replace with your file\n",
        "model = keras.models.Sequential() # example to create a new sequential model\n",
        "model.add(keras.layers.Dense(10, activation='relu', input_shape=(100,))) # you'll need to adapt the layers, etc to your desired model\n",
        "model.add(keras.layers.Dense(1, activation='sigmoid')) # example output layer\n",
        "# ... (configure and train your model here) ...\n",
        "# Once the model is defined and ready, then use it\n",
        "\n",
        "# Create the directory using mkdir if it doesn't exist\n",
        "!mkdir -p /content/drive/My\\ Drive/Sentiment_Analysis\n",
        "\n",
        "model.save('/content/drive/My Drive/Sentiment_Analysis/sentiment_analysis_model_new.h5') # specify full path for model saving\n",
        "\n",
        "print(\"Saved model to disk\")"
      ],
      "metadata": {
        "colab": {
          "base_uri": "https://localhost:8080/"
        },
        "id": "kkMkMJtyByGG",
        "outputId": "c80580ab-91cb-4cad-af65-3ba00ebf0c5e"
      },
      "execution_count": 12,
      "outputs": [
        {
          "output_type": "stream",
          "name": "stderr",
          "text": [
            "/usr/local/lib/python3.11/dist-packages/keras/src/layers/core/dense.py:87: UserWarning: Do not pass an `input_shape`/`input_dim` argument to a layer. When using Sequential models, prefer using an `Input(shape)` object as the first layer in the model instead.\n",
            "  super().__init__(activity_regularizer=activity_regularizer, **kwargs)\n",
            "WARNING:absl:You are saving your model as an HDF5 file via `model.save()` or `keras.saving.save_model(model)`. This file format is considered legacy. We recommend using instead the native Keras format, e.g. `model.save('my_model.keras')` or `keras.saving.save_model(model, 'my_model.keras')`. \n"
          ]
        },
        {
          "output_type": "stream",
          "name": "stdout",
          "text": [
            "Saved model to disk\n"
          ]
        }
      ]
    },
    {
      "cell_type": "code",
      "source": [
        "#Check the content of the directory\n",
        "os.chdir(\"/content/drive/My Drive/Sentiment_Analysis\") # Changed to the correct path\n",
        "!ls"
      ],
      "metadata": {
        "colab": {
          "base_uri": "https://localhost:8080/"
        },
        "id": "Hth_KOydBx1I",
        "outputId": "4bf7f3b9-590e-43d4-c467-ffc47f5fe695"
      },
      "execution_count": 14,
      "outputs": [
        {
          "output_type": "stream",
          "name": "stdout",
          "text": [
            "sentiment_analysis_model_new.h5\n"
          ]
        }
      ]
    },
    {
      "cell_type": "code",
      "source": [
        "import warnings\n",
        "from tensorflow import keras\n",
        "from keras.models import load_model\n",
        "\n",
        "# Suppress the warning\n",
        "with warnings.catch_warnings():\n",
        "    warnings.filterwarnings(\"ignore\", category=UserWarning, module=\"absl\")\n",
        "    model = load_model('/content/drive/My Drive/Sentiment_Analysis/sentiment_analysis_model_new.h5') # Use the full path\n",
        "\n",
        "# Compile the model after loading it\n",
        "model.compile(loss='binary_crossentropy', optimizer='adam', metrics=['accuracy']) # Or your desired configuration\n",
        "\n",
        "print(\"Model Loaded\")"
      ],
      "metadata": {
        "colab": {
          "base_uri": "https://localhost:8080/"
        },
        "id": "TkbBkL02B8ty",
        "outputId": "c2d2613d-e4b9-44f7-8a3b-1c75bbe261f0"
      },
      "execution_count": 19,
      "outputs": [
        {
          "output_type": "stream",
          "name": "stderr",
          "text": [
            "WARNING:absl:No training configuration found in the save file, so the model was *not* compiled. Compile it manually.\n"
          ]
        },
        {
          "output_type": "stream",
          "name": "stdout",
          "text": [
            "Model Loaded\n"
          ]
        }
      ]
    }
  ]
}